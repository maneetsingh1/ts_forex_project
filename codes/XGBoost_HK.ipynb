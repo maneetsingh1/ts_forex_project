{
 "cells": [
  {
   "cell_type": "markdown",
   "id": "9d701142",
   "metadata": {},
   "source": [
    "# Reading Data"
   ]
  },
  {
   "cell_type": "code",
   "execution_count": 88,
   "id": "6950b1d1",
   "metadata": {},
   "outputs": [],
   "source": [
    "import pandas as pd\n",
    "import numpy as np\n",
    "import xgboost as xgb\n",
    "from sktime.forecasting.all import temporal_train_test_split\n",
    "from sklearn.model_selection import GridSearchCV, train_test_split, RandomizedSearchCV\n",
    "import sktime\n",
    "from sktime.performance_metrics.forecasting import mean_absolute_percentage_error\n",
    "from sklearn.metrics import mean_squared_error\n",
    "from sklearn.ensemble import RandomForestClassifier\n",
    "from sklearn.metrics import accuracy_score\n",
    "import warnings\n",
    "warnings.filterwarnings('ignore')\n",
    "from functools import partial\n",
    "from sklearn.model_selection import (TimeSeriesSplit, train_test_split, \n",
    "                                     cross_val_score)\n",
    "from hyperopt import fmin, tpe, hp, Trials, STATUS_OK, STATUS_FAIL\n",
    "import xgboost as xgb\n",
    "from sklearn.metrics import make_scorer"
   ]
  },
  {
   "cell_type": "code",
   "execution_count": 31,
   "id": "b441e81e",
   "metadata": {},
   "outputs": [],
   "source": [
    "data_gbp = pd.read_csv('GBP.csv',index_col=0)\n",
    "data_cad = pd.read_csv('CAD.csv',index_col=0)\n",
    "data_eur = pd.read_csv('EUR.csv',index_col=0)\n",
    "data_nzd = pd.read_csv('NZD.csv',index_col=0)\n",
    "data_jpy = pd.read_csv('JPY.csv',index_col=0)\n",
    "data_gbp.index = pd.to_datetime(data_gbp.index)\n",
    "data_cad.index = pd.to_datetime(data_cad.index)\n",
    "data_eur.index= pd.to_datetime(data_eur.index)\n",
    "data_nzd.index = pd.to_datetime(data_nzd.index)\n",
    "data_jpy.index= pd.to_datetime(data_jpy.index)"
   ]
  },
  {
   "cell_type": "code",
   "execution_count": 19,
   "id": "164cb7ef",
   "metadata": {},
   "outputs": [],
   "source": [
    "X_gbp, y_gbp = data_gbp[['YC/GBR5Y - Yield', 'YC/USA5Y - Rate']], data_gbp['Direction']\n",
    "train_test_size=0.7"
   ]
  },
  {
   "cell_type": "code",
   "execution_count": 20,
   "id": "e19af664",
   "metadata": {},
   "outputs": [],
   "source": [
    "X_train, X_test = X_gbp.iloc[:int(train_test_size*len(X_gbp))], X_gbp.iloc[int(train_test_size*len(X_gbp)):]\n",
    "y_train, y_test = y_gbp.iloc[:int(train_test_size*len(X_gbp))], y_gbp.iloc[int(train_test_size*len(X_gbp)):]"
   ]
  },
  {
   "cell_type": "markdown",
   "id": "e0a583cb",
   "metadata": {},
   "source": [
    "# Grid Search"
   ]
  },
  {
   "cell_type": "code",
   "execution_count": 21,
   "id": "0db7f45c",
   "metadata": {},
   "outputs": [
    {
     "data": {
      "text/plain": [
       "XGBClassifier(base_score=None, booster=None, callbacks=None,\n",
       "              colsample_bylevel=None, colsample_bynode=None,\n",
       "              colsample_bytree=None, early_stopping_rounds=None,\n",
       "              enable_categorical=False, eval_metric=None, gamma=None,\n",
       "              gpu_id=None, grow_policy=None, importance_type=None,\n",
       "              interaction_constraints=None, learning_rate=None, max_bin=None,\n",
       "              max_cat_to_onehot=None, max_delta_step=None, max_depth=None,\n",
       "              max_leaves=None, min_child_weight=None, missing=nan,\n",
       "              monotone_constraints=None, n_estimators=100, n_jobs=None,\n",
       "              num_parallel_tree=None, predictor=None, random_state=None,\n",
       "              reg_alpha=None, reg_lambda=None, ...)"
      ]
     },
     "execution_count": 21,
     "metadata": {},
     "output_type": "execute_result"
    }
   ],
   "source": [
    "xgb.XGBClassifier()"
   ]
  },
  {
   "cell_type": "code",
   "execution_count": 22,
   "id": "bcf2f4b5",
   "metadata": {},
   "outputs": [],
   "source": [
    "param_grid = {'learning_rate': np.arange(.1,1.6,.1),\n",
    "              'gamma': np.arange(0,5,.25),\n",
    "              'max_depth': np.arange(4,10,1)\n",
    "             }"
   ]
  },
  {
   "cell_type": "code",
   "execution_count": 23,
   "id": "bf2b6143",
   "metadata": {},
   "outputs": [],
   "source": [
    "random_search = RandomizedSearchCV(xgb.XGBClassifier(), \n",
    "                                   param_distributions=param_grid, \n",
    "                                   cv = 5, \n",
    "                                   scoring='neg_root_mean_squared_error', \n",
    "                                   n_jobs=-1, \n",
    "                                   verbose=3, \n",
    "                                   random_state=1001 )"
   ]
  },
  {
   "cell_type": "code",
   "execution_count": 24,
   "id": "f921ed84",
   "metadata": {},
   "outputs": [
    {
     "name": "stdout",
     "output_type": "stream",
     "text": [
      "Fitting 5 folds for each of 10 candidates, totalling 50 fits\n"
     ]
    },
    {
     "data": {
      "text/plain": [
       "RandomizedSearchCV(cv=5,\n",
       "                   estimator=XGBClassifier(base_score=None, booster=None,\n",
       "                                           callbacks=None,\n",
       "                                           colsample_bylevel=None,\n",
       "                                           colsample_bynode=None,\n",
       "                                           colsample_bytree=None,\n",
       "                                           early_stopping_rounds=None,\n",
       "                                           enable_categorical=False,\n",
       "                                           eval_metric=None, gamma=None,\n",
       "                                           gpu_id=None, grow_policy=None,\n",
       "                                           importance_type=None,\n",
       "                                           interaction_constraints=None,\n",
       "                                           learning_rate=None, max_bin=None,...\n",
       "                                           reg_alpha=None, reg_lambda=None, ...),\n",
       "                   n_jobs=-1,\n",
       "                   param_distributions={'gamma': array([0.  , 0.25, 0.5 , 0.75, 1.  , 1.25, 1.5 , 1.75, 2.  , 2.25, 2.5 ,\n",
       "       2.75, 3.  , 3.25, 3.5 , 3.75, 4.  , 4.25, 4.5 , 4.75]),\n",
       "                                        'learning_rate': array([0.1, 0.2, 0.3, 0.4, 0.5, 0.6, 0.7, 0.8, 0.9, 1. , 1.1, 1.2, 1.3,\n",
       "       1.4, 1.5]),\n",
       "                                        'max_depth': array([4, 5, 6, 7, 8, 9])},\n",
       "                   random_state=1001, scoring='neg_root_mean_squared_error',\n",
       "                   verbose=3)"
      ]
     },
     "execution_count": 24,
     "metadata": {},
     "output_type": "execute_result"
    }
   ],
   "source": [
    "random_search.fit(X_train, y_train)"
   ]
  },
  {
   "cell_type": "code",
   "execution_count": 25,
   "id": "fd9ade59",
   "metadata": {},
   "outputs": [
    {
     "data": {
      "text/plain": [
       "XGBClassifier(base_score=0.5, booster='gbtree', callbacks=None,\n",
       "              colsample_bylevel=1, colsample_bynode=1, colsample_bytree=1,\n",
       "              early_stopping_rounds=None, enable_categorical=False,\n",
       "              eval_metric=None, gamma=4.25, gpu_id=-1, grow_policy='depthwise',\n",
       "              importance_type=None, interaction_constraints='',\n",
       "              learning_rate=0.4, max_bin=256, max_cat_to_onehot=4,\n",
       "              max_delta_step=0, max_depth=6, max_leaves=0, min_child_weight=1,\n",
       "              missing=nan, monotone_constraints='()', n_estimators=100,\n",
       "              n_jobs=0, num_parallel_tree=1, predictor='auto', random_state=0,\n",
       "              reg_alpha=0, reg_lambda=1, ...)"
      ]
     },
     "execution_count": 25,
     "metadata": {},
     "output_type": "execute_result"
    }
   ],
   "source": [
    "random_search.best_estimator_"
   ]
  },
  {
   "cell_type": "code",
   "execution_count": 26,
   "id": "430d3a2c",
   "metadata": {},
   "outputs": [],
   "source": [
    "top_xgboost_model = random_search.best_estimator_\n",
    "# Run train and test predictions\n",
    "ypred_train = top_xgboost_model.predict(X_train)\n",
    "ypred_test = top_xgboost_model.predict(X_test)"
   ]
  },
  {
   "cell_type": "code",
   "execution_count": 27,
   "id": "1e5834cc",
   "metadata": {},
   "outputs": [
    {
     "name": "stdout",
     "output_type": "stream",
     "text": [
      "mse train: 0.568\n",
      "mse test:  0.49\n"
     ]
    }
   ],
   "source": [
    "print('mse train: {}'.format( round(accuracy_score(y_train, ypred_train),3)))\n",
    "print('mse test:  {}'.format( round(accuracy_score(y_test, ypred_test),3)))"
   ]
  },
  {
   "cell_type": "markdown",
   "id": "935ecc05",
   "metadata": {},
   "source": [
    "# Rolling XGBoost"
   ]
  },
  {
   "cell_type": "code",
   "execution_count": 28,
   "id": "440d6603",
   "metadata": {},
   "outputs": [
    {
     "name": "stdout",
     "output_type": "stream",
     "text": [
      "[0.45662100456621, 0.5095785440613027, 0.46360153256704983, 0.5172413793103449, 0.5230769230769231]\n"
     ]
    }
   ],
   "source": [
    "time_frames = list(zip(np.arange(2004,2019,3), np.arange(2007,2021,3)))\n",
    "accuracy_list = list()\n",
    "\n",
    "for i in time_frames:\n",
    "    data_rolling = data_gbp.loc[str(i[0]):str(i[1])]\n",
    "    X, y = data_rolling[['YC/GBR5Y - Yield', 'YC/USA5Y - Rate']], data_rolling['Direction']\n",
    "    X_train, X_test, y_train, y_test = temporal_train_test_split(X, y)\n",
    "    \n",
    "    base = xgb.XGBClassifier()\n",
    "    base_result = base.fit(X_train, y_train.values.ravel())\n",
    "    ypred_train = base_result.predict(X_train)\n",
    "    ypred_test = base_result.predict(X_test)\n",
    "    \n",
    "    classifier = xgb.XGBClassifier()\n",
    "    classifier.fit(X_train, y_train)\n",
    "    y_pred = classifier.predict(X_test)\n",
    "    accuracy_list.append(accuracy_score(y_test, y_pred))\n",
    "\n",
    "print(accuracy_list)"
   ]
  },
  {
   "cell_type": "markdown",
   "id": "f80413fb",
   "metadata": {},
   "source": [
    "# Hyperopt Tuning with Regressor"
   ]
  },
  {
   "cell_type": "code",
   "execution_count": 66,
   "id": "38b635ae",
   "metadata": {},
   "outputs": [
    {
     "data": {
      "text/html": [
       "<div>\n",
       "<style scoped>\n",
       "    .dataframe tbody tr th:only-of-type {\n",
       "        vertical-align: middle;\n",
       "    }\n",
       "\n",
       "    .dataframe tbody tr th {\n",
       "        vertical-align: top;\n",
       "    }\n",
       "\n",
       "    .dataframe thead th {\n",
       "        text-align: right;\n",
       "    }\n",
       "</style>\n",
       "<table border=\"1\" class=\"dataframe\">\n",
       "  <thead>\n",
       "    <tr style=\"text-align: right;\">\n",
       "      <th></th>\n",
       "      <th>GBPUSD</th>\n",
       "      <th>YC/GBR5Y - Yield</th>\n",
       "      <th>YC/USA5Y - Rate</th>\n",
       "      <th>Change in Spot</th>\n",
       "      <th>Direction</th>\n",
       "    </tr>\n",
       "    <tr>\n",
       "      <th>Date</th>\n",
       "      <th></th>\n",
       "      <th></th>\n",
       "      <th></th>\n",
       "      <th></th>\n",
       "      <th></th>\n",
       "    </tr>\n",
       "  </thead>\n",
       "  <tbody>\n",
       "    <tr>\n",
       "      <th>2004-08-23</th>\n",
       "      <td>0.55120</td>\n",
       "      <td>4.9500</td>\n",
       "      <td>3.42</td>\n",
       "      <td>0.00210</td>\n",
       "      <td>1</td>\n",
       "    </tr>\n",
       "    <tr>\n",
       "      <th>2004-08-24</th>\n",
       "      <td>0.55760</td>\n",
       "      <td>5.0300</td>\n",
       "      <td>3.46</td>\n",
       "      <td>0.00640</td>\n",
       "      <td>1</td>\n",
       "    </tr>\n",
       "    <tr>\n",
       "      <th>2004-08-25</th>\n",
       "      <td>0.55660</td>\n",
       "      <td>5.0300</td>\n",
       "      <td>3.46</td>\n",
       "      <td>-0.00100</td>\n",
       "      <td>0</td>\n",
       "    </tr>\n",
       "    <tr>\n",
       "      <th>2004-08-26</th>\n",
       "      <td>0.55740</td>\n",
       "      <td>4.9800</td>\n",
       "      <td>3.46</td>\n",
       "      <td>0.00080</td>\n",
       "      <td>1</td>\n",
       "    </tr>\n",
       "    <tr>\n",
       "      <th>2004-08-27</th>\n",
       "      <td>0.55800</td>\n",
       "      <td>4.9600</td>\n",
       "      <td>3.42</td>\n",
       "      <td>0.00060</td>\n",
       "      <td>1</td>\n",
       "    </tr>\n",
       "    <tr>\n",
       "      <th>...</th>\n",
       "      <td>...</td>\n",
       "      <td>...</td>\n",
       "      <td>...</td>\n",
       "      <td>...</td>\n",
       "      <td>...</td>\n",
       "    </tr>\n",
       "    <tr>\n",
       "      <th>2019-12-25</th>\n",
       "      <td>0.77035</td>\n",
       "      <td>0.5506</td>\n",
       "      <td>1.72</td>\n",
       "      <td>-0.00155</td>\n",
       "      <td>0</td>\n",
       "    </tr>\n",
       "    <tr>\n",
       "      <th>2019-12-26</th>\n",
       "      <td>0.76880</td>\n",
       "      <td>0.5510</td>\n",
       "      <td>1.72</td>\n",
       "      <td>-0.00155</td>\n",
       "      <td>0</td>\n",
       "    </tr>\n",
       "    <tr>\n",
       "      <th>2019-12-27</th>\n",
       "      <td>0.76390</td>\n",
       "      <td>0.5514</td>\n",
       "      <td>1.72</td>\n",
       "      <td>-0.00490</td>\n",
       "      <td>0</td>\n",
       "    </tr>\n",
       "    <tr>\n",
       "      <th>2019-12-30</th>\n",
       "      <td>0.76100</td>\n",
       "      <td>0.5518</td>\n",
       "      <td>1.68</td>\n",
       "      <td>-0.00290</td>\n",
       "      <td>0</td>\n",
       "    </tr>\n",
       "    <tr>\n",
       "      <th>2019-12-31</th>\n",
       "      <td>0.75360</td>\n",
       "      <td>0.6113</td>\n",
       "      <td>1.68</td>\n",
       "      <td>-0.00740</td>\n",
       "      <td>0</td>\n",
       "    </tr>\n",
       "  </tbody>\n",
       "</table>\n",
       "<p>3997 rows × 5 columns</p>\n",
       "</div>"
      ],
      "text/plain": [
       "             GBPUSD  YC/GBR5Y - Yield  YC/USA5Y - Rate  Change in Spot  \\\n",
       "Date                                                                     \n",
       "2004-08-23  0.55120            4.9500             3.42         0.00210   \n",
       "2004-08-24  0.55760            5.0300             3.46         0.00640   \n",
       "2004-08-25  0.55660            5.0300             3.46        -0.00100   \n",
       "2004-08-26  0.55740            4.9800             3.46         0.00080   \n",
       "2004-08-27  0.55800            4.9600             3.42         0.00060   \n",
       "...             ...               ...              ...             ...   \n",
       "2019-12-25  0.77035            0.5506             1.72        -0.00155   \n",
       "2019-12-26  0.76880            0.5510             1.72        -0.00155   \n",
       "2019-12-27  0.76390            0.5514             1.72        -0.00490   \n",
       "2019-12-30  0.76100            0.5518             1.68        -0.00290   \n",
       "2019-12-31  0.75360            0.6113             1.68        -0.00740   \n",
       "\n",
       "            Direction  \n",
       "Date                   \n",
       "2004-08-23          1  \n",
       "2004-08-24          1  \n",
       "2004-08-25          0  \n",
       "2004-08-26          1  \n",
       "2004-08-27          1  \n",
       "...               ...  \n",
       "2019-12-25          0  \n",
       "2019-12-26          0  \n",
       "2019-12-27          0  \n",
       "2019-12-30          0  \n",
       "2019-12-31          0  \n",
       "\n",
       "[3997 rows x 5 columns]"
      ]
     },
     "execution_count": 66,
     "metadata": {},
     "output_type": "execute_result"
    }
   ],
   "source": [
    "data_gbp"
   ]
  },
  {
   "cell_type": "code",
   "execution_count": 67,
   "id": "8289a5a2",
   "metadata": {},
   "outputs": [],
   "source": [
    "X_gbp, y_gbp = data_gbp[['YC/GBR5Y - Yield','YC/USA5Y - Rate']],data_gbp['GBPUSD']"
   ]
  },
  {
   "cell_type": "code",
   "execution_count": 68,
   "id": "68692052",
   "metadata": {},
   "outputs": [],
   "source": [
    "X_train, X_test = X_gbp.iloc[:int(train_test_size*len(X_gbp))], X_gbp.iloc[int(train_test_size*len(X_gbp)):]\n",
    "y_train, y_test = y_gbp.iloc[:int(train_test_size*len(X_gbp))], y_gbp.iloc[int(train_test_size*len(X_gbp)):]"
   ]
  },
  {
   "cell_type": "code",
   "execution_count": 77,
   "id": "59712378",
   "metadata": {},
   "outputs": [],
   "source": [
    "import warnings\n",
    "warnings.filterwarnings('ignore')\n",
    "import numpy as np\n",
    "import pandas as pd\n",
    "from functools import partial\n",
    "from sklearn.metrics import mean_squared_error\n",
    "from sklearn.model_selection import (TimeSeriesSplit, train_test_split, \n",
    "                                     cross_val_score)\n",
    "from hyperopt import fmin, tpe, hp, Trials, STATUS_OK, STATUS_FAIL\n",
    "import xgboost as xgb\n",
    "\n",
    "from sklearn.metrics import make_scorer\n",
    "\n",
    "# MAPE computation\n",
    "def mape(y, yhat, perc=True):\n",
    "    n = len(yhat.index) if type(yhat) == pd.Series else len(yhat)    \n",
    "    mape = []\n",
    "    for a, f in zip(y, yhat):\n",
    "        # avoid division by 0\n",
    "        if f > 1e-9:\n",
    "            mape.append(np.abs((a - f)/a))\n",
    "    mape = np.mean(np.array(mape))\n",
    "    return mape * 100. if perc else mape\n",
    "\n",
    "\n",
    "def train_xgb(params, X_train, y_train):\n",
    "    \"\"\"\n",
    "    Train XGBoost regressor using the parameters given as input. The model\n",
    "    is validated using standard cross validation technique adapted for time series\n",
    "    data. This function returns a friendly output for the hyper parameter optimization\n",
    "    module.\n",
    "    \n",
    "    Parameters\n",
    "    ----------\n",
    "    params: dict with the parameters of the XGBoost regressor. For complete list see: \n",
    "            https://xgboost.readthedocs.io/en/latest/parameter.html\n",
    "    X_train: pd.DataFrame with the training set features\n",
    "    y_train: pd.Series with the training set targets    \n",
    "    \n",
    "    Returns\n",
    "    -------\n",
    "    dict with keys 'model' for the trained model, 'status' containing the hyperopt\n",
    "    status string and 'loss' with the RMSE obtained from cross-validation\n",
    "    \"\"\"\n",
    "    \n",
    "    n_estimators = int(params[\"n_estimators\"])\n",
    "    max_depth= int(params[\"max_depth\"])\n",
    "\n",
    "    try:\n",
    "        model = xgb.XGBRegressor(n_estimators=n_estimators, \n",
    "                                 max_depth=max_depth, \n",
    "                                 learning_rate=params[\"learning_rate\"],\n",
    "                                 subsample=params[\"subsample\"])\n",
    "\n",
    "        result = model.fit(X_train, \n",
    "                           y_train.values.ravel(),\n",
    "                           eval_set=[(X_train, y_train.values.ravel())],\n",
    "                           early_stopping_rounds=50,\n",
    "                           verbose=False)\n",
    "        \n",
    "        # cross validate using the right iterator for time series\n",
    "        cv_space = TimeSeriesSplit(n_splits=5)\n",
    "        cv_score = cross_val_score(model, \n",
    "                                   X_train, y_train.values.ravel(), \n",
    "                                   cv=cv_space, \n",
    "                                   scoring=mape_scorer)\n",
    "\n",
    "        rmse = np.abs(np.mean(np.array(cv_score)))\n",
    "        return {\n",
    "            \"loss\": rmse,\n",
    "            \"status\": STATUS_OK,\n",
    "            \"model\": model\n",
    "        }\n",
    "        \n",
    "    except ValueError as ex:\n",
    "        return {\n",
    "            \"error\": ex,\n",
    "            \"status\": STATUS_FAIL\n",
    "        }\n",
    "    \n",
    "def optimize_xgb(X_train, y_train, max_evals=10):\n",
    "    \"\"\"\n",
    "    Run Bayesan optimization to find the optimal XGBoost algorithm\n",
    "    hyperparameters.\n",
    "    \n",
    "    Parameters\n",
    "    ----------\n",
    "    X_train: pd.DataFrame with the training set features\n",
    "    y_train: pd.Series with the training set targets\n",
    "    max_evals: the maximum number of iterations in the Bayesian optimization method\n",
    "    \n",
    "    Returns\n",
    "    -------\n",
    "    best: dict with the best parameters obtained\n",
    "    trials: a list of hyperopt Trials objects with the history of the optimization\n",
    "    \"\"\"\n",
    "    \n",
    "    space = {\n",
    "        \"n_estimators\": hp.quniform(\"n_estimators\", 100, 1000, 10),\n",
    "        \"max_depth\": hp.quniform(\"max_depth\", 4, 8, 1),\n",
    "        \"learning_rate\": hp.loguniform(\"learning_rate\", -5, 1),\n",
    "        \"subsample\": hp.uniform(\"subsample\", 0.8, 1),\n",
    "        \"gamma\": hp.quniform(\"gamma\", 0, 100, 1)\n",
    "    }\n",
    "\n",
    "    objective_fn = partial(train_xgb, \n",
    "                           X_train=X_train, \n",
    "                           y_train=y_train)\n",
    "    \n",
    "    trials = Trials()\n",
    "    best = fmin(fn=objective_fn,\n",
    "                space=space,\n",
    "                algo=tpe.suggest,\n",
    "                max_evals=max_evals,\n",
    "                trials=trials)\n",
    "\n",
    "    # evaluate the best model on the test set\n",
    "    print(f\"\"\"\n",
    "    Best parameters:\n",
    "        learning_rate: {best[\"learning_rate\"]} \n",
    "        n_estimators: {best[\"n_estimators\"]}\n",
    "        max_depth: {best[\"max_depth\"]}\n",
    "        sub_sample: {best[\"subsample\"]}\n",
    "        gamma: {best[\"gamma\"]}\n",
    "    \"\"\")\n",
    "    return best, trials"
   ]
  },
  {
   "cell_type": "code",
   "execution_count": 78,
   "id": "9f253a3a",
   "metadata": {},
   "outputs": [
    {
     "name": "stdout",
     "output_type": "stream",
     "text": [
      "100%|██████████| 50/50 [01:48<00:00,  2.16s/trial, best loss: 6.655252053965787]\n",
      "\n",
      "    Best parameters:\n",
      "        learning_rate: 0.011348868987810769 \n",
      "        n_estimators: 180.0\n",
      "        max_depth: 7.0\n",
      "        sub_sample: 0.90578083815\n",
      "        gamma: 53.0\n",
      "    \n"
     ]
    }
   ],
   "source": [
    "mape_scorer = make_scorer(mape, greater_is_better=False)\n",
    "best, trials = optimize_xgb(X_train, y_train, max_evals=50)"
   ]
  },
  {
   "cell_type": "code",
   "execution_count": 79,
   "id": "e93388f4",
   "metadata": {},
   "outputs": [
    {
     "data": {
      "text/plain": [
       "{'gamma': 53.0,\n",
       " 'learning_rate': 0.011348868987810769,\n",
       " 'max_depth': 7.0,\n",
       " 'n_estimators': 180.0,\n",
       " 'subsample': 0.90578083815}"
      ]
     },
     "execution_count": 79,
     "metadata": {},
     "output_type": "execute_result"
    }
   ],
   "source": [
    "best"
   ]
  },
  {
   "cell_type": "code",
   "execution_count": 80,
   "id": "474d8bfc",
   "metadata": {},
   "outputs": [],
   "source": [
    "model = xgb.XGBRegressor(n_estimators=int(best['n_estimators']), \n",
    "                                 max_depth=int(best['max_depth']), \n",
    "                                 learning_rate=best[\"learning_rate\"],\n",
    "                                 subsample=best[\"subsample\"])\n",
    "\n",
    "result = model.fit(X_train, \n",
    "                   y_train.values.ravel(),\n",
    "                   eval_set=[(X_train, y_train.values.ravel())],\n",
    "                   early_stopping_rounds=50,\n",
    "                   verbose=False)"
   ]
  },
  {
   "cell_type": "code",
   "execution_count": 81,
   "id": "6cdf7627",
   "metadata": {},
   "outputs": [],
   "source": [
    "ypred_train = model.predict(X_train)\n",
    "ypred_test = model.predict(X_test)"
   ]
  },
  {
   "cell_type": "code",
   "execution_count": 82,
   "id": "2f81662b",
   "metadata": {},
   "outputs": [
    {
     "data": {
      "text/plain": [
       "<AxesSubplot:xlabel='Date'>"
      ]
     },
     "execution_count": 82,
     "metadata": {},
     "output_type": "execute_result"
    },
    {
     "data": {
      "image/png": "[encoded data removed]",
      "text/plain": [
       "<Figure size 432x288 with 1 Axes>"
      ]
     },
     "metadata": {
      "needs_background": "light"
     },
     "output_type": "display_data"
    }
   ],
   "source": [
    "pd.concat(\n",
    "    [\n",
    "        pd.Series(ypred_test, index=y_test.index),\n",
    "        y_test,\n",
    "    ], axis=1\n",
    ").plot(alpha=0.7)"
   ]
  },
  {
   "cell_type": "code",
   "execution_count": 89,
   "id": "5f93625a",
   "metadata": {},
   "outputs": [],
   "source": [
    "MAPE_func = sktime.performance_metrics.forecasting.MeanAbsolutePercentageError(symmetric=False)"
   ]
  },
  {
   "cell_type": "code",
   "execution_count": 90,
   "id": "ea4cbd9c",
   "metadata": {},
   "outputs": [
    {
     "name": "stdout",
     "output_type": "stream",
     "text": [
      "mse train: 0.024\n",
      "mse test:  0.143\n"
     ]
    }
   ],
   "source": [
    "print('mse train: {}'.format( round(MAPE_func(y_train, ypred_train),3)))\n",
    "print('mse test:  {}'.format( round(MAPE_func(y_test, ypred_test),3)))"
   ]
  }
 ],
 "metadata": {
  "kernelspec": {
   "display_name": "Python 3 (ipykernel)",
   "language": "python",
   "name": "python3"
  },
  "language_info": {
   "codemirror_mode": {
    "name": "ipython",
    "version": 3
   },
   "file_extension": ".py",
   "mimetype": "text/x-python",
   "name": "python",
   "nbconvert_exporter": "python",
   "pygments_lexer": "ipython3",
   "version": "3.8.8"
  }
 },
 "nbformat": 4,
 "nbformat_minor": 5
}

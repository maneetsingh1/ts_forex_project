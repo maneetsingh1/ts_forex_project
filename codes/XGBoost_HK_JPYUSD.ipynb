{
 "cells": [
  {
   "cell_type": "markdown",
   "id": "9d701142",
   "metadata": {},
   "source": [
    "# Reading Data"
   ]
  },
  {
   "cell_type": "code",
   "execution_count": 36,
   "id": "6950b1d1",
   "metadata": {},
   "outputs": [],
   "source": [
    "import pandas as pd\n",
    "import numpy as np\n",
    "import xgboost as xgb\n",
    "from sktime.forecasting.all import temporal_train_test_split\n",
    "from sklearn.model_selection import GridSearchCV, train_test_split, RandomizedSearchCV\n",
    "import matplotlib.pyplot as plt\n",
    "plt.style.use('seaborn')\n",
    "import sktime\n",
    "from sktime.performance_metrics.forecasting import mean_absolute_percentage_error\n",
    "from sklearn.metrics import mean_squared_error\n",
    "from sklearn.ensemble import RandomForestClassifier\n",
    "from sklearn.metrics import accuracy_score\n",
    "import warnings\n",
    "warnings.filterwarnings('ignore')\n",
    "from functools import partial\n",
    "from sklearn.model_selection import (TimeSeriesSplit, train_test_split, \n",
    "                                     cross_val_score)\n",
    "from hyperopt import fmin, tpe, hp, Trials, STATUS_OK, STATUS_FAIL\n",
    "import xgboost as xgb\n",
    "from sklearn.metrics import make_scorer\n",
    "from sktime.performance_metrics.forecasting import MeanAbsolutePercentageError\n",
    "\n",
    "import warnings\n",
    "warnings.filterwarnings('ignore')\n",
    "import numpy as np\n",
    "import pandas as pd\n",
    "from functools import partial\n",
    "from sklearn.metrics import mean_squared_error\n",
    "from sklearn.model_selection import (TimeSeriesSplit, train_test_split, \n",
    "                                     cross_val_score)\n",
    "from hyperopt import fmin, tpe, hp, Trials, STATUS_OK, STATUS_FAIL\n",
    "import xgboost as xgb\n",
    "\n",
    "from sklearn.metrics import make_scorer\n",
    "\n",
    "from sktime.performance_metrics.forecasting import mean_absolute_error\n",
    "from sktime.performance_metrics.forecasting import mean_squared_error\n",
    "from sktime.performance_metrics.forecasting import mean_absolute_percentage_error\n",
    "from sktime.performance_metrics.forecasting import mean_absolute_scaled_error"
   ]
  },
  {
   "cell_type": "code",
   "execution_count": 37,
   "id": "9663c8f7",
   "metadata": {},
   "outputs": [],
   "source": [
    "def model_evaluate(y_test, y_pred,y_train, var):\n",
    "    mae = mean_absolute_error(y_test, y_pred)\n",
    "    mse = mean_squared_error(y_test, y_pred)\n",
    "    rmse = np.sqrt(mse)\n",
    "    mape = MeanAbsolutePercentageError(symmetric=False)\n",
    "    mape = mape(y_test, y_pred)\n",
    "    smape = MeanAbsolutePercentageError()\n",
    "    smape_val = smape(y_test, y_pred)\n",
    "    mase = mean_absolute_scaled_error(y_test, y_pred, y_train = y_train)\n",
    "    return pd.DataFrame([[mae,mse,rmse,mape,smape_val,mase]],columns = ['MAE','MSE','RMSE','MAPE','sMAPE','MASE'],index= ['Test vs Pred - ' + var])"
   ]
  },
  {
   "cell_type": "markdown",
   "id": "f80413fb",
   "metadata": {},
   "source": [
    "# Hyperopt Tuning with Regressor"
   ]
  },
  {
   "cell_type": "code",
   "execution_count": 38,
   "id": "38b635ae",
   "metadata": {},
   "outputs": [
    {
     "data": {
      "text/html": [
       "<div>\n",
       "<style scoped>\n",
       "    .dataframe tbody tr th:only-of-type {\n",
       "        vertical-align: middle;\n",
       "    }\n",
       "\n",
       "    .dataframe tbody tr th {\n",
       "        vertical-align: top;\n",
       "    }\n",
       "\n",
       "    .dataframe thead th {\n",
       "        text-align: right;\n",
       "    }\n",
       "</style>\n",
       "<table border=\"1\" class=\"dataframe\">\n",
       "  <thead>\n",
       "    <tr style=\"text-align: right;\">\n",
       "      <th></th>\n",
       "      <th>JPYUSD</th>\n",
       "      <th>YC/JPN5Y - Yield</th>\n",
       "      <th>YC/USA5Y - Rate</th>\n",
       "      <th>Change in Spot</th>\n",
       "      <th>Direction</th>\n",
       "      <th>JPYUSD_Shift</th>\n",
       "    </tr>\n",
       "    <tr>\n",
       "      <th>Date</th>\n",
       "      <th></th>\n",
       "      <th></th>\n",
       "      <th></th>\n",
       "      <th></th>\n",
       "      <th></th>\n",
       "      <th></th>\n",
       "    </tr>\n",
       "  </thead>\n",
       "  <tbody>\n",
       "    <tr>\n",
       "      <th>2004-08-23</th>\n",
       "      <td>109.47</td>\n",
       "      <td>0.732</td>\n",
       "      <td>3.42</td>\n",
       "      <td>0.15</td>\n",
       "      <td>1</td>\n",
       "      <td>NaN</td>\n",
       "    </tr>\n",
       "    <tr>\n",
       "      <th>2004-08-24</th>\n",
       "      <td>109.63</td>\n",
       "      <td>0.762</td>\n",
       "      <td>3.46</td>\n",
       "      <td>0.16</td>\n",
       "      <td>1</td>\n",
       "      <td>109.47</td>\n",
       "    </tr>\n",
       "    <tr>\n",
       "      <th>2004-08-25</th>\n",
       "      <td>110.38</td>\n",
       "      <td>0.759</td>\n",
       "      <td>3.46</td>\n",
       "      <td>0.75</td>\n",
       "      <td>1</td>\n",
       "      <td>109.63</td>\n",
       "    </tr>\n",
       "    <tr>\n",
       "      <th>2004-08-26</th>\n",
       "      <td>109.73</td>\n",
       "      <td>0.789</td>\n",
       "      <td>3.46</td>\n",
       "      <td>-0.65</td>\n",
       "      <td>0</td>\n",
       "      <td>110.38</td>\n",
       "    </tr>\n",
       "    <tr>\n",
       "      <th>2004-08-27</th>\n",
       "      <td>109.51</td>\n",
       "      <td>0.773</td>\n",
       "      <td>3.42</td>\n",
       "      <td>-0.22</td>\n",
       "      <td>0</td>\n",
       "      <td>109.73</td>\n",
       "    </tr>\n",
       "  </tbody>\n",
       "</table>\n",
       "</div>"
      ],
      "text/plain": [
       "            JPYUSD  YC/JPN5Y - Yield  YC/USA5Y - Rate  Change in Spot  \\\n",
       "Date                                                                    \n",
       "2004-08-23  109.47             0.732             3.42            0.15   \n",
       "2004-08-24  109.63             0.762             3.46            0.16   \n",
       "2004-08-25  110.38             0.759             3.46            0.75   \n",
       "2004-08-26  109.73             0.789             3.46           -0.65   \n",
       "2004-08-27  109.51             0.773             3.42           -0.22   \n",
       "\n",
       "            Direction  JPYUSD_Shift  \n",
       "Date                                 \n",
       "2004-08-23          1           NaN  \n",
       "2004-08-24          1        109.47  \n",
       "2004-08-25          1        109.63  \n",
       "2004-08-26          0        110.38  \n",
       "2004-08-27          0        109.73  "
      ]
     },
     "execution_count": 38,
     "metadata": {},
     "output_type": "execute_result"
    }
   ],
   "source": [
    "data_jpy.head()"
   ]
  },
  {
   "cell_type": "code",
   "execution_count": 39,
   "id": "8289a5a2",
   "metadata": {},
   "outputs": [],
   "source": [
    "X_jpy, y_jpy = data_jpy[['YC/JPN5Y - Yield', 'YC/USA5Y - Rate','JPYUSD_Shift']], data_jpy['JPYUSD']"
   ]
  },
  {
   "cell_type": "code",
   "execution_count": 21,
   "id": "68692052",
   "metadata": {},
   "outputs": [],
   "source": [
    "X_train, X_test = X_jpy.iloc[:int(train_test_size*len(X_jpy))], X_jpy.iloc[int(train_test_size*len(X_jpy)):]\n",
    "y_train, y_test = y_jpy.iloc[:int(train_test_size*len(y_jpy))], y_jpy.iloc[int(train_test_size*len(y_jpy)):]"
   ]
  },
  {
   "cell_type": "code",
   "execution_count": 40,
   "id": "59712378",
   "metadata": {},
   "outputs": [],
   "source": [
    "# MAPE computation\n",
    "def mape(y, yhat, perc=True):\n",
    "    n = len(yhat.index) if type(yhat) == pd.Series else len(yhat)    \n",
    "    mape = []\n",
    "    for a, f in zip(y, yhat):\n",
    "        # avoid division by 0\n",
    "        if f > 1e-9:\n",
    "            mape.append(np.abs((a - f)/a))\n",
    "    mape = np.mean(np.array(mape))\n",
    "    return mape * 100. if perc else mape\n",
    "\n",
    "\n",
    "def train_xgb(params, X_train, y_train):\n",
    "    \"\"\"\n",
    "    Train XGBoost regressor using the parameters given as input. The model\n",
    "    is validated using standard cross validation technique adapted for time series\n",
    "    data. This function returns a friendly output for the hyper parameter optimization\n",
    "    module.\n",
    "    \n",
    "    Parameters\n",
    "    ----------\n",
    "    params: dict with the parameters of the XGBoost regressor. For complete list see: \n",
    "            https://xgboost.readthedocs.io/en/latest/parameter.html\n",
    "    X_train: pd.DataFrame with the training set features\n",
    "    y_train: pd.Series with the training set targets    \n",
    "    \n",
    "    Returns\n",
    "    -------\n",
    "    dict with keys 'model' for the trained model, 'status' containing the hyperopt\n",
    "    status string and 'loss' with the RMSE obtained from cross-validation\n",
    "    \"\"\"\n",
    "    \n",
    "    n_estimators = int(params[\"n_estimators\"])\n",
    "    max_depth= int(params[\"max_depth\"])\n",
    "\n",
    "    try:\n",
    "        model = xgb.XGBRegressor(n_estimators=n_estimators, \n",
    "                                 max_depth=max_depth, \n",
    "                                 learning_rate=params[\"learning_rate\"],\n",
    "                                 subsample=params[\"subsample\"])\n",
    "\n",
    "        result = model.fit(X_train, \n",
    "                           y_train.values.ravel(),\n",
    "                           eval_set=[(X_train, y_train.values.ravel())],\n",
    "                           early_stopping_rounds=50,\n",
    "                           verbose=False)\n",
    "        \n",
    "        # cross validate using the right iterator for time series\n",
    "        cv_space = TimeSeriesSplit(n_splits=5)\n",
    "        cv_score = cross_val_score(model, \n",
    "                                   X_train, y_train.values.ravel(), \n",
    "                                   cv=cv_space, \n",
    "                                   scoring=mape_scorer)\n",
    "\n",
    "        rmse = np.abs(np.mean(np.array(cv_score)))\n",
    "        return {\n",
    "            \"loss\": rmse,\n",
    "            \"status\": STATUS_OK,\n",
    "            \"model\": model\n",
    "        }\n",
    "        \n",
    "    except ValueError as ex:\n",
    "        return {\n",
    "            \"error\": ex,\n",
    "            \"status\": STATUS_FAIL\n",
    "        }\n",
    "    \n",
    "def optimize_xgb(X_train, y_train, max_evals=10):\n",
    "    \"\"\"\n",
    "    Run Bayesan optimization to find the optimal XGBoost algorithm\n",
    "    hyperparameters.\n",
    "    \n",
    "    Parameters\n",
    "    ----------\n",
    "    X_train: pd.DataFrame with the training set features\n",
    "    y_train: pd.Series with the training set targets\n",
    "    max_evals: the maximum number of iterations in the Bayesian optimization method\n",
    "    \n",
    "    Returns\n",
    "    -------\n",
    "    best: dict with the best parameters obtained\n",
    "    trials: a list of hyperopt Trials objects with the history of the optimization\n",
    "    \"\"\"\n",
    "    \n",
    "    space = {\n",
    "        \"n_estimators\": hp.quniform(\"n_estimators\", 100, 1000, 10),\n",
    "        \"max_depth\": hp.quniform(\"max_depth\", 4, 8, 1),\n",
    "        \"learning_rate\": hp.loguniform(\"learning_rate\", -5, 1),\n",
    "        \"subsample\": hp.uniform(\"subsample\", 0.8, 1),\n",
    "        \"gamma\": hp.quniform(\"gamma\", 0, 100, 1)\n",
    "    }\n",
    "\n",
    "    objective_fn = partial(train_xgb, \n",
    "                           X_train=X_train, \n",
    "                           y_train=y_train)\n",
    "    \n",
    "    trials = Trials()\n",
    "    best = fmin(fn=objective_fn,\n",
    "                space=space,\n",
    "                algo=tpe.suggest,\n",
    "                max_evals=max_evals,\n",
    "                trials=trials)\n",
    "\n",
    "    # evaluate the best model on the test set\n",
    "    print(f\"\"\"\n",
    "    Best parameters:\n",
    "        learning_rate: {best[\"learning_rate\"]} \n",
    "        n_estimators: {best[\"n_estimators\"]}\n",
    "        max_depth: {best[\"max_depth\"]}\n",
    "        sub_sample: {best[\"subsample\"]}\n",
    "        gamma: {best[\"gamma\"]}\n",
    "    \"\"\")\n",
    "    return best, trials"
   ]
  },
  {
   "cell_type": "code",
   "execution_count": 41,
   "id": "9f253a3a",
   "metadata": {},
   "outputs": [
    {
     "name": "stdout",
     "output_type": "stream",
     "text": [
      "100%|██████████| 50/50 [01:42<00:00,  2.05s/trial, best loss: 2.444713996951774]\n",
      "\n",
      "    Best parameters:\n",
      "        learning_rate: 0.06637185081324987 \n",
      "        n_estimators: 130.0\n",
      "        max_depth: 5.0\n",
      "        sub_sample: 0.8810355030530455\n",
      "        gamma: 3.0\n",
      "    \n"
     ]
    }
   ],
   "source": [
    "mape_scorer = make_scorer(mape, greater_is_better=False)\n",
    "best, trials = optimize_xgb(X_train, y_train, max_evals=50)"
   ]
  },
  {
   "cell_type": "code",
   "execution_count": 24,
   "id": "e93388f4",
   "metadata": {},
   "outputs": [
    {
     "data": {
      "text/plain": [
       "{'gamma': 77.0,\n",
       " 'learning_rate': 0.02131663954547255,\n",
       " 'max_depth': 4.0,\n",
       " 'n_estimators': 320.0,\n",
       " 'subsample': 0.8726545199387881}"
      ]
     },
     "execution_count": 24,
     "metadata": {},
     "output_type": "execute_result"
    }
   ],
   "source": [
    "#this is the best model\n",
    "best"
   ]
  },
  {
   "cell_type": "code",
   "execution_count": 25,
   "id": "474d8bfc",
   "metadata": {},
   "outputs": [],
   "source": [
    "model = xgb.XGBRegressor(n_estimators=int(best['n_estimators']), \n",
    "                                 max_depth=int(best['max_depth']), \n",
    "                                 learning_rate=best[\"learning_rate\"],\n",
    "                                 subsample=best[\"subsample\"])\n",
    "\n",
    "result = model.fit(X_train, \n",
    "                   y_train.values.ravel(),\n",
    "                   eval_set=[(X_train, y_train.values.ravel())],\n",
    "                   early_stopping_rounds=50,\n",
    "                   verbose=False)"
   ]
  },
  {
   "cell_type": "code",
   "execution_count": 26,
   "id": "6cdf7627",
   "metadata": {},
   "outputs": [],
   "source": [
    "ypred_train = model.predict(X_train)\n",
    "ypred_test = model.predict(X_test)"
   ]
  },
  {
   "cell_type": "code",
   "execution_count": 34,
   "id": "d24a4dc3",
   "metadata": {},
   "outputs": [
    {
     "data": {
      "text/plain": [
       "<matplotlib.legend.Legend at 0x7fabc8052430>"
      ]
     },
     "execution_count": 34,
     "metadata": {},
     "output_type": "execute_result"
    },
    {
     "data": {
      "image/png": "[encoded data removed]",
      "text/plain": [
       "<Figure size 576x396 with 1 Axes>"
      ]
     },
     "metadata": {},
     "output_type": "display_data"
    }
   ],
   "source": [
    "yhat4 = pd.Series(ypred_test, index=y_test.index)\n",
    "y_train.resample('M').last().plot(label='Trained series for JPYUSD')\n",
    "yhat4.resample('M').last().plot(color='green',label='Predicted series for JPYUSD')\n",
    "y_test.resample('M').last().plot(color = 'orange',label='Actual series for JPYUSD')\n",
    "plt.legend()"
   ]
  },
  {
   "cell_type": "code",
   "execution_count": 32,
   "id": "0dea1050",
   "metadata": {},
   "outputs": [
    {
     "data": {
      "text/html": [
       "<div>\n",
       "<style scoped>\n",
       "    .dataframe tbody tr th:only-of-type {\n",
       "        vertical-align: middle;\n",
       "    }\n",
       "\n",
       "    .dataframe tbody tr th {\n",
       "        vertical-align: top;\n",
       "    }\n",
       "\n",
       "    .dataframe thead th {\n",
       "        text-align: right;\n",
       "    }\n",
       "</style>\n",
       "<table border=\"1\" class=\"dataframe\">\n",
       "  <thead>\n",
       "    <tr style=\"text-align: right;\">\n",
       "      <th></th>\n",
       "      <th>MAE</th>\n",
       "      <th>MSE</th>\n",
       "      <th>RMSE</th>\n",
       "      <th>MAPE</th>\n",
       "      <th>sMAPE</th>\n",
       "      <th>MASE</th>\n",
       "    </tr>\n",
       "  </thead>\n",
       "  <tbody>\n",
       "    <tr>\n",
       "      <th>Test vs Pred - JPYUSD</th>\n",
       "      <td>0.590313</td>\n",
       "      <td>0.607483</td>\n",
       "      <td>0.779412</td>\n",
       "      <td>0.005232</td>\n",
       "      <td>0.005246</td>\n",
       "      <td>1.300858</td>\n",
       "    </tr>\n",
       "  </tbody>\n",
       "</table>\n",
       "</div>"
      ],
      "text/plain": [
       "                            MAE       MSE      RMSE      MAPE     sMAPE  \\\n",
       "Test vs Pred - JPYUSD  0.590313  0.607483  0.779412  0.005232  0.005246   \n",
       "\n",
       "                           MASE  \n",
       "Test vs Pred - JPYUSD  1.300858  "
      ]
     },
     "execution_count": 32,
     "metadata": {},
     "output_type": "execute_result"
    }
   ],
   "source": [
    "model_evaluate(y_test,yhat4 ,y_train, 'JPYUSD')"
   ]
  },
  {
   "cell_type": "code",
   "execution_count": null,
   "id": "54f19748",
   "metadata": {},
   "outputs": [],
   "source": []
  }
 ],
 "metadata": {
  "kernelspec": {
   "display_name": "Python 3 (ipykernel)",
   "language": "python",
   "name": "python3"
  },
  "language_info": {
   "codemirror_mode": {
    "name": "ipython",
    "version": 3
   },
   "file_extension": ".py",
   "mimetype": "text/x-python",
   "name": "python",
   "nbconvert_exporter": "python",
   "pygments_lexer": "ipython3",
   "version": "3.8.8"
  }
 },
 "nbformat": 4,
 "nbformat_minor": 5
}

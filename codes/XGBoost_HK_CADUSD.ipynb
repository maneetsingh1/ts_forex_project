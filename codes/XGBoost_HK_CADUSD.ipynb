{
 "cells": [
  {
   "cell_type": "markdown",
   "id": "9d701142",
   "metadata": {},
   "source": [
    "# Reading Data"
   ]
  },
  {
   "cell_type": "code",
   "execution_count": 34,
   "id": "6950b1d1",
   "metadata": {},
   "outputs": [],
   "source": [
    "import pandas as pd\n",
    "import numpy as np\n",
    "import xgboost as xgb\n",
    "from sktime.forecasting.all import temporal_train_test_split\n",
    "from sklearn.model_selection import GridSearchCV, train_test_split, RandomizedSearchCV\n",
    "import matplotlib.pyplot as plt\n",
    "plt.style.use('seaborn')\n",
    "import sktime\n",
    "from sktime.performance_metrics.forecasting import mean_absolute_percentage_error\n",
    "from sklearn.metrics import mean_squared_error\n",
    "from sklearn.ensemble import RandomForestClassifier\n",
    "from sklearn.metrics import accuracy_score\n",
    "import warnings\n",
    "warnings.filterwarnings('ignore')\n",
    "from functools import partial\n",
    "from sklearn.model_selection import (TimeSeriesSplit, train_test_split, \n",
    "                                     cross_val_score)\n",
    "from hyperopt import fmin, tpe, hp, Trials, STATUS_OK, STATUS_FAIL\n",
    "import xgboost as xgb\n",
    "from sklearn.metrics import make_scorer\n",
    "from sktime.performance_metrics.forecasting import MeanAbsolutePercentageError\n",
    "\n",
    "from sktime.performance_metrics.forecasting import mean_absolute_error\n",
    "from sktime.performance_metrics.forecasting import mean_squared_error\n",
    "from sktime.performance_metrics.forecasting import mean_absolute_percentage_error\n",
    "from sktime.performance_metrics.forecasting import mean_absolute_scaled_error"
   ]
  },
  {
   "cell_type": "code",
   "execution_count": 35,
   "id": "9663c8f7",
   "metadata": {},
   "outputs": [],
   "source": [
    "def model_evaluate(y_test, y_pred,y_train, var):\n",
    "    mae = mean_absolute_error(y_test, y_pred)\n",
    "    mse = mean_squared_error(y_test, y_pred)\n",
    "    rmse = np.sqrt(mse)\n",
    "    mape = MeanAbsolutePercentageError(symmetric=False)\n",
    "    mape = mape(y_test, y_pred)\n",
    "    smape = MeanAbsolutePercentageError()\n",
    "    smape_val = smape(y_test, y_pred)\n",
    "    mase = mean_absolute_scaled_error(y_test, y_pred, y_train = y_train)\n",
    "    return pd.DataFrame([[mae,mse,rmse,mape,smape_val,mase]],columns = ['MAE','MSE','RMSE','MAPE','sMAPE','MASE'],index= ['Test vs Pred - ' + var])"
   ]
  },
  {
   "cell_type": "markdown",
   "id": "f80413fb",
   "metadata": {},
   "source": [
    "# Hyperopt Tuning with Regressor"
   ]
  },
  {
   "cell_type": "code",
   "execution_count": null,
   "id": "dd239cf3",
   "metadata": {},
   "outputs": [],
   "source": [
    "data_cad = pd.read_csv('CAD.csv',index_col=0)\n",
    "data_cad.index = pd.to_datetime(data_cad.index)\n",
    "data_cad['CADUSD_Shift']= data_cad['CADUSD'].shift()"
   ]
  },
  {
   "cell_type": "code",
   "execution_count": 36,
   "id": "38b635ae",
   "metadata": {},
   "outputs": [
    {
     "data": {
      "text/html": [
       "<div>\n",
       "<style scoped>\n",
       "    .dataframe tbody tr th:only-of-type {\n",
       "        vertical-align: middle;\n",
       "    }\n",
       "\n",
       "    .dataframe tbody tr th {\n",
       "        vertical-align: top;\n",
       "    }\n",
       "\n",
       "    .dataframe thead th {\n",
       "        text-align: right;\n",
       "    }\n",
       "</style>\n",
       "<table border=\"1\" class=\"dataframe\">\n",
       "  <thead>\n",
       "    <tr style=\"text-align: right;\">\n",
       "      <th></th>\n",
       "      <th>CADUSD</th>\n",
       "      <th>YC/CAN5Y - Rate</th>\n",
       "      <th>YC/USA5Y - Rate</th>\n",
       "      <th>Change in Spot</th>\n",
       "      <th>Direction</th>\n",
       "      <th>CADUSD_Shift</th>\n",
       "    </tr>\n",
       "    <tr>\n",
       "      <th>Date</th>\n",
       "      <th></th>\n",
       "      <th></th>\n",
       "      <th></th>\n",
       "      <th></th>\n",
       "      <th></th>\n",
       "      <th></th>\n",
       "    </tr>\n",
       "  </thead>\n",
       "  <tbody>\n",
       "    <tr>\n",
       "      <th>2004-08-23</th>\n",
       "      <td>1.3065</td>\n",
       "      <td>3.760000</td>\n",
       "      <td>3.42</td>\n",
       "      <td>0.0085</td>\n",
       "      <td>1</td>\n",
       "      <td>NaN</td>\n",
       "    </tr>\n",
       "    <tr>\n",
       "      <th>2004-08-24</th>\n",
       "      <td>1.3048</td>\n",
       "      <td>3.800000</td>\n",
       "      <td>3.46</td>\n",
       "      <td>-0.0017</td>\n",
       "      <td>0</td>\n",
       "      <td>1.3065</td>\n",
       "    </tr>\n",
       "    <tr>\n",
       "      <th>2004-08-25</th>\n",
       "      <td>1.3047</td>\n",
       "      <td>3.850000</td>\n",
       "      <td>3.46</td>\n",
       "      <td>-0.0001</td>\n",
       "      <td>0</td>\n",
       "      <td>1.3048</td>\n",
       "    </tr>\n",
       "    <tr>\n",
       "      <th>2004-08-26</th>\n",
       "      <td>1.3123</td>\n",
       "      <td>3.830000</td>\n",
       "      <td>3.46</td>\n",
       "      <td>0.0076</td>\n",
       "      <td>1</td>\n",
       "      <td>1.3047</td>\n",
       "    </tr>\n",
       "    <tr>\n",
       "      <th>2004-08-27</th>\n",
       "      <td>1.3104</td>\n",
       "      <td>3.810000</td>\n",
       "      <td>3.42</td>\n",
       "      <td>-0.0019</td>\n",
       "      <td>0</td>\n",
       "      <td>1.3123</td>\n",
       "    </tr>\n",
       "    <tr>\n",
       "      <th>...</th>\n",
       "      <td>...</td>\n",
       "      <td>...</td>\n",
       "      <td>...</td>\n",
       "      <td>...</td>\n",
       "      <td>...</td>\n",
       "      <td>...</td>\n",
       "    </tr>\n",
       "    <tr>\n",
       "      <th>2019-12-25</th>\n",
       "      <td>1.3142</td>\n",
       "      <td>1.640000</td>\n",
       "      <td>1.72</td>\n",
       "      <td>-0.0018</td>\n",
       "      <td>0</td>\n",
       "      <td>1.3160</td>\n",
       "    </tr>\n",
       "    <tr>\n",
       "      <th>2019-12-26</th>\n",
       "      <td>1.3124</td>\n",
       "      <td>1.633333</td>\n",
       "      <td>1.72</td>\n",
       "      <td>-0.0018</td>\n",
       "      <td>0</td>\n",
       "      <td>1.3142</td>\n",
       "    </tr>\n",
       "    <tr>\n",
       "      <th>2019-12-27</th>\n",
       "      <td>1.3073</td>\n",
       "      <td>1.626667</td>\n",
       "      <td>1.72</td>\n",
       "      <td>-0.0051</td>\n",
       "      <td>0</td>\n",
       "      <td>1.3124</td>\n",
       "    </tr>\n",
       "    <tr>\n",
       "      <th>2019-12-30</th>\n",
       "      <td>1.3058</td>\n",
       "      <td>1.620000</td>\n",
       "      <td>1.68</td>\n",
       "      <td>-0.0015</td>\n",
       "      <td>0</td>\n",
       "      <td>1.3073</td>\n",
       "    </tr>\n",
       "    <tr>\n",
       "      <th>2019-12-31</th>\n",
       "      <td>1.2962</td>\n",
       "      <td>1.660000</td>\n",
       "      <td>1.68</td>\n",
       "      <td>-0.0096</td>\n",
       "      <td>0</td>\n",
       "      <td>1.3058</td>\n",
       "    </tr>\n",
       "  </tbody>\n",
       "</table>\n",
       "<p>3997 rows × 6 columns</p>\n",
       "</div>"
      ],
      "text/plain": [
       "            CADUSD  YC/CAN5Y - Rate  YC/USA5Y - Rate  Change in Spot  \\\n",
       "Date                                                                   \n",
       "2004-08-23  1.3065         3.760000             3.42          0.0085   \n",
       "2004-08-24  1.3048         3.800000             3.46         -0.0017   \n",
       "2004-08-25  1.3047         3.850000             3.46         -0.0001   \n",
       "2004-08-26  1.3123         3.830000             3.46          0.0076   \n",
       "2004-08-27  1.3104         3.810000             3.42         -0.0019   \n",
       "...            ...              ...              ...             ...   \n",
       "2019-12-25  1.3142         1.640000             1.72         -0.0018   \n",
       "2019-12-26  1.3124         1.633333             1.72         -0.0018   \n",
       "2019-12-27  1.3073         1.626667             1.72         -0.0051   \n",
       "2019-12-30  1.3058         1.620000             1.68         -0.0015   \n",
       "2019-12-31  1.2962         1.660000             1.68         -0.0096   \n",
       "\n",
       "            Direction  CADUSD_Shift  \n",
       "Date                                 \n",
       "2004-08-23          1           NaN  \n",
       "2004-08-24          0        1.3065  \n",
       "2004-08-25          0        1.3048  \n",
       "2004-08-26          1        1.3047  \n",
       "2004-08-27          0        1.3123  \n",
       "...               ...           ...  \n",
       "2019-12-25          0        1.3160  \n",
       "2019-12-26          0        1.3142  \n",
       "2019-12-27          0        1.3124  \n",
       "2019-12-30          0        1.3073  \n",
       "2019-12-31          0        1.3058  \n",
       "\n",
       "[3997 rows x 6 columns]"
      ]
     },
     "execution_count": 36,
     "metadata": {},
     "output_type": "execute_result"
    }
   ],
   "source": [
    "data_cad"
   ]
  },
  {
   "cell_type": "code",
   "execution_count": 37,
   "id": "8289a5a2",
   "metadata": {},
   "outputs": [],
   "source": [
    "X_cad, y_cad = data_cad[['YC/CAN5Y - Rate', 'YC/USA5Y - Rate','CADUSD_Shift']], data_cad['CADUSD']"
   ]
  },
  {
   "cell_type": "code",
   "execution_count": 38,
   "id": "68692052",
   "metadata": {},
   "outputs": [],
   "source": [
    "X_train, X_test = X_cad.iloc[:int(train_test_size*len(X_cad))], X_cad.iloc[int(train_test_size*len(X_cad)):]\n",
    "y_train, y_test = y_cad.iloc[:int(train_test_size*len(y_cad))], y_cad.iloc[int(train_test_size*len(y_cad)):]"
   ]
  },
  {
   "cell_type": "code",
   "execution_count": 39,
   "id": "59712378",
   "metadata": {},
   "outputs": [],
   "source": [
    "import warnings\n",
    "warnings.filterwarnings('ignore')\n",
    "import numpy as np\n",
    "import pandas as pd\n",
    "from functools import partial\n",
    "from sklearn.metrics import mean_squared_error\n",
    "from sklearn.model_selection import (TimeSeriesSplit, train_test_split, \n",
    "                                     cross_val_score)\n",
    "from hyperopt import fmin, tpe, hp, Trials, STATUS_OK, STATUS_FAIL\n",
    "import xgboost as xgb\n",
    "\n",
    "from sklearn.metrics import make_scorer\n",
    "\n",
    "# MAPE computation\n",
    "def mape(y, yhat, perc=True):\n",
    "    n = len(yhat.index) if type(yhat) == pd.Series else len(yhat)    \n",
    "    mape = []\n",
    "    for a, f in zip(y, yhat):\n",
    "        # avoid division by 0\n",
    "        if f > 1e-9:\n",
    "            mape.append(np.abs((a - f)/a))\n",
    "    mape = np.mean(np.array(mape))\n",
    "    return mape * 100. if perc else mape\n",
    "\n",
    "\n",
    "def train_xgb(params, X_train, y_train):\n",
    "    \"\"\"\n",
    "    Train XGBoost regressor using the parameters given as input. The model\n",
    "    is validated using standard cross validation technique adapted for time series\n",
    "    data. This function returns a friendly output for the hyper parameter optimization\n",
    "    module.\n",
    "    \n",
    "    Parameters\n",
    "    ----------\n",
    "    params: dict with the parameters of the XGBoost regressor. For complete list see: \n",
    "            https://xgboost.readthedocs.io/en/latest/parameter.html\n",
    "    X_train: pd.DataFrame with the training set features\n",
    "    y_train: pd.Series with the training set targets    \n",
    "    \n",
    "    Returns\n",
    "    -------\n",
    "    dict with keys 'model' for the trained model, 'status' containing the hyperopt\n",
    "    status string and 'loss' with the RMSE obtained from cross-validation\n",
    "    \"\"\"\n",
    "    \n",
    "    n_estimators = int(params[\"n_estimators\"])\n",
    "    max_depth= int(params[\"max_depth\"])\n",
    "\n",
    "    try:\n",
    "        model = xgb.XGBRegressor(n_estimators=n_estimators, \n",
    "                                 max_depth=max_depth, \n",
    "                                 learning_rate=params[\"learning_rate\"],\n",
    "                                 subsample=params[\"subsample\"])\n",
    "\n",
    "        result = model.fit(X_train, \n",
    "                           y_train.values.ravel(),\n",
    "                           eval_set=[(X_train, y_train.values.ravel())],\n",
    "                           early_stopping_rounds=50,\n",
    "                           verbose=False)\n",
    "        \n",
    "        # cross validate using the right iterator for time series\n",
    "        cv_space = TimeSeriesSplit(n_splits=5)\n",
    "        cv_score = cross_val_score(model, \n",
    "                                   X_train, y_train.values.ravel(), \n",
    "                                   cv=cv_space, \n",
    "                                   scoring=mape_scorer)\n",
    "\n",
    "        rmse = np.abs(np.mean(np.array(cv_score)))\n",
    "        return {\n",
    "            \"loss\": rmse,\n",
    "            \"status\": STATUS_OK,\n",
    "            \"model\": model\n",
    "        }\n",
    "        \n",
    "    except ValueError as ex:\n",
    "        return {\n",
    "            \"error\": ex,\n",
    "            \"status\": STATUS_FAIL\n",
    "        }\n",
    "    \n",
    "def optimize_xgb(X_train, y_train, max_evals=10):\n",
    "    \"\"\"\n",
    "    Run Bayesan optimization to find the optimal XGBoost algorithm\n",
    "    hyperparameters.\n",
    "    \n",
    "    Parameters\n",
    "    ----------\n",
    "    X_train: pd.DataFrame with the training set features\n",
    "    y_train: pd.Series with the training set targets\n",
    "    max_evals: the maximum number of iterations in the Bayesian optimization method\n",
    "    \n",
    "    Returns\n",
    "    -------\n",
    "    best: dict with the best parameters obtained\n",
    "    trials: a list of hyperopt Trials objects with the history of the optimization\n",
    "    \"\"\"\n",
    "    \n",
    "    space = {\n",
    "        \"n_estimators\": hp.quniform(\"n_estimators\", 100, 1000, 10),\n",
    "        \"max_depth\": hp.quniform(\"max_depth\", 4, 8, 1),\n",
    "        \"learning_rate\": hp.loguniform(\"learning_rate\", -5, 1),\n",
    "        \"subsample\": hp.uniform(\"subsample\", 0.8, 1),\n",
    "        \"gamma\": hp.quniform(\"gamma\", 0, 100, 1)\n",
    "    }\n",
    "\n",
    "    objective_fn = partial(train_xgb, \n",
    "                           X_train=X_train, \n",
    "                           y_train=y_train)\n",
    "    \n",
    "    trials = Trials()\n",
    "    best = fmin(fn=objective_fn,\n",
    "                space=space,\n",
    "                algo=tpe.suggest,\n",
    "                max_evals=max_evals,\n",
    "                trials=trials)\n",
    "\n",
    "    # evaluate the best model on the test set\n",
    "    print(f\"\"\"\n",
    "    Best parameters:\n",
    "        learning_rate: {best[\"learning_rate\"]} \n",
    "        n_estimators: {best[\"n_estimators\"]}\n",
    "        max_depth: {best[\"max_depth\"]}\n",
    "        sub_sample: {best[\"subsample\"]}\n",
    "        gamma: {best[\"gamma\"]}\n",
    "    \"\"\")\n",
    "    return best, trials"
   ]
  },
  {
   "cell_type": "code",
   "execution_count": 40,
   "id": "9f253a3a",
   "metadata": {},
   "outputs": [
    {
     "name": "stdout",
     "output_type": "stream",
     "text": [
      "100%|█████████| 50/50 [04:59<00:00,  5.99s/trial, best loss: 1.3517160408944957]\n",
      "\n",
      "    Best parameters:\n",
      "        learning_rate: 0.018118140064206284 \n",
      "        n_estimators: 370.0\n",
      "        max_depth: 4.0\n",
      "        sub_sample: 0.8679220734618943\n",
      "        gamma: 61.0\n",
      "    \n"
     ]
    }
   ],
   "source": [
    "mape_scorer = make_scorer(mape, greater_is_better=False)\n",
    "best, trials = optimize_xgb(X_train, y_train, max_evals=50)"
   ]
  },
  {
   "cell_type": "code",
   "execution_count": 41,
   "id": "e93388f4",
   "metadata": {},
   "outputs": [
    {
     "data": {
      "text/plain": [
       "{'gamma': 61.0,\n",
       " 'learning_rate': 0.018118140064206284,\n",
       " 'max_depth': 4.0,\n",
       " 'n_estimators': 370.0,\n",
       " 'subsample': 0.8679220734618943}"
      ]
     },
     "execution_count": 41,
     "metadata": {},
     "output_type": "execute_result"
    }
   ],
   "source": [
    "best"
   ]
  },
  {
   "cell_type": "code",
   "execution_count": 42,
   "id": "474d8bfc",
   "metadata": {},
   "outputs": [],
   "source": [
    "model = xgb.XGBRegressor(n_estimators=int(best['n_estimators']), \n",
    "                                 max_depth=int(best['max_depth']), \n",
    "                                 learning_rate=best[\"learning_rate\"],\n",
    "                                 subsample=best[\"subsample\"])\n",
    "\n",
    "result = model.fit(X_train, \n",
    "                   y_train.values.ravel(),\n",
    "                   eval_set=[(X_train, y_train.values.ravel())],\n",
    "                   early_stopping_rounds=50,\n",
    "                   verbose=False)"
   ]
  },
  {
   "cell_type": "code",
   "execution_count": 43,
   "id": "6cdf7627",
   "metadata": {},
   "outputs": [],
   "source": [
    "ypred_train = model.predict(X_train)\n",
    "ypred_test = model.predict(X_test)"
   ]
  },
  {
   "cell_type": "code",
   "execution_count": 44,
   "id": "2f81662b",
   "metadata": {},
   "outputs": [
    {
     "data": {
      "text/plain": [
       "<AxesSubplot:xlabel='Date'>"
      ]
     },
     "execution_count": 44,
     "metadata": {},
     "output_type": "execute_result"
    },
    {
     "data": {
      "image/png": "[encoded data removed]",
      "text/plain": [
       "<Figure size 576x396 with 1 Axes>"
      ]
     },
     "metadata": {},
     "output_type": "display_data"
    }
   ],
   "source": [
    "pd.concat(\n",
    "    [\n",
    "        pd.Series(ypred_test, index=y_test.index),\n",
    "        y_test,\n",
    "    ], axis=1\n",
    ").plot(alpha=0.7)"
   ]
  },
  {
   "cell_type": "code",
   "execution_count": 45,
   "id": "5f93625a",
   "metadata": {},
   "outputs": [],
   "source": [
    "MAPE_func = sktime.performance_metrics.forecasting.MeanAbsolutePercentageError(symmetric=False)"
   ]
  },
  {
   "cell_type": "code",
   "execution_count": 46,
   "id": "ea4cbd9c",
   "metadata": {},
   "outputs": [
    {
     "name": "stdout",
     "output_type": "stream",
     "text": [
      "mse train: 0.004\n",
      "mse test:  0.024\n"
     ]
    }
   ],
   "source": [
    "print('mse train: {}'.format( round(MAPE_func(y_train, ypred_train),3)))\n",
    "print('mse test:  {}'.format( round(MAPE_func(y_test, ypred_test),3)))"
   ]
  },
  {
   "cell_type": "code",
   "execution_count": 49,
   "id": "d24a4dc3",
   "metadata": {},
   "outputs": [
    {
     "data": {
      "text/plain": [
       "<matplotlib.legend.Legend at 0x7f9f04c61b20>"
      ]
     },
     "execution_count": 49,
     "metadata": {},
     "output_type": "execute_result"
    },
    {
     "data": {
      "image/png": "[encoded data removed]",
      "text/plain": [
       "<Figure size 576x396 with 1 Axes>"
      ]
     },
     "metadata": {},
     "output_type": "display_data"
    }
   ],
   "source": [
    "yhat4 = pd.Series(ypred_test, index=y_test.index)\n",
    "y_train.resample('M').last().plot(label='Trained series for CADUSD')\n",
    "yhat4.resample('M').last().plot(color='red',label='Predicted series for CADUSD')\n",
    "y_test.resample('M').last().plot(color = 'black',label='Actual series for CADUSD')\n",
    "plt.legend()"
   ]
  },
  {
   "cell_type": "code",
   "execution_count": 48,
   "id": "0dea1050",
   "metadata": {},
   "outputs": [
    {
     "data": {
      "text/html": [
       "<div>\n",
       "<style scoped>\n",
       "    .dataframe tbody tr th:only-of-type {\n",
       "        vertical-align: middle;\n",
       "    }\n",
       "\n",
       "    .dataframe tbody tr th {\n",
       "        vertical-align: top;\n",
       "    }\n",
       "\n",
       "    .dataframe thead th {\n",
       "        text-align: right;\n",
       "    }\n",
       "</style>\n",
       "<table border=\"1\" class=\"dataframe\">\n",
       "  <thead>\n",
       "    <tr style=\"text-align: right;\">\n",
       "      <th></th>\n",
       "      <th>MAE</th>\n",
       "      <th>MSE</th>\n",
       "      <th>RMSE</th>\n",
       "      <th>MAPE</th>\n",
       "      <th>sMAPE</th>\n",
       "      <th>MASE</th>\n",
       "    </tr>\n",
       "  </thead>\n",
       "  <tbody>\n",
       "    <tr>\n",
       "      <th>Test vs Pred - CADUSD</th>\n",
       "      <td>0.032633</td>\n",
       "      <td>0.001753</td>\n",
       "      <td>0.041872</td>\n",
       "      <td>0.024416</td>\n",
       "      <td>0.024903</td>\n",
       "      <td>6.855756</td>\n",
       "    </tr>\n",
       "  </tbody>\n",
       "</table>\n",
       "</div>"
      ],
      "text/plain": [
       "                            MAE       MSE      RMSE      MAPE     sMAPE  \\\n",
       "Test vs Pred - CADUSD  0.032633  0.001753  0.041872  0.024416  0.024903   \n",
       "\n",
       "                           MASE  \n",
       "Test vs Pred - CADUSD  6.855756  "
      ]
     },
     "execution_count": 48,
     "metadata": {},
     "output_type": "execute_result"
    }
   ],
   "source": [
    "model_evaluate(y_test,yhat4 ,y_train, 'CADUSD')"
   ]
  },
  {
   "cell_type": "code",
   "execution_count": null,
   "id": "54f19748",
   "metadata": {},
   "outputs": [],
   "source": []
  }
 ],
 "metadata": {
  "kernelspec": {
   "display_name": "Python 3",
   "language": "python",
   "name": "python3"
  },
  "language_info": {
   "codemirror_mode": {
    "name": "ipython",
    "version": 3
   },
   "file_extension": ".py",
   "mimetype": "text/x-python",
   "name": "python",
   "nbconvert_exporter": "python",
   "pygments_lexer": "ipython3",
   "version": "3.8.8"
  }
 },
 "nbformat": 4,
 "nbformat_minor": 5
}
